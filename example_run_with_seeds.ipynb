{
 "cells": [
  {
   "cell_type": "code",
   "execution_count": 3,
   "metadata": {
    "scrolled": true
   },
   "outputs": [
    {
     "name": "stderr",
     "output_type": "stream",
     "text": [
      "NetworkX version 1.11\n"
     ]
    }
   ],
   "source": [
    "from __future__ import print_function\n",
    "import sys,os\n",
    "\n",
    "import numpy as np\n",
    "from scipy.stats import hypergeom # ,fisher_exact\n",
    "from fisher import pvalue\n",
    "import pandas as pd\n",
    " \n",
    "import networkx as nx\n",
    "print(\"NetworkX version\",nx.__version__, file = sys.stderr) # should be < 2\n",
    "import ndex2.client\n",
    "import ndex2\n",
    "\n",
    "import itertools\n",
    "import warnings\n",
    "import time\n",
    "import datetime\n",
    "import copy\n",
    "import random\n",
    "\n",
    "import matplotlib\n",
    "import matplotlib.pyplot as plt \n",
    "from mpl_toolkits.mplot3d import axes3d \n",
    "import seaborn as sns\n",
    "\n",
    "%matplotlib inline"
   ]
  },
  {
   "cell_type": "code",
   "execution_count": 3,
   "metadata": {},
   "outputs": [],
   "source": [
    "sys.path.append(os.path.abspath(\"/home/olya/SFU/Breast_cancer/DESMOND/\"))\n",
    "from method import prepare_input_data, print_network_stats\n",
    "from method import precompute_RRHO_thresholds\n",
    "from RWR import create_subnetworks_from_seeds #calc_distanse_matrix, group_seed_genes"
   ]
  },
  {
   "cell_type": "code",
   "execution_count": 4,
   "metadata": {},
   "outputs": [
    {
     "name": "stderr",
     "output_type": "stream",
     "text": [
      "Input:\n",
      " \texpressions: 13361 genes x 529 patients; \n",
      "\tnetwork: 16702 genes, 258257 edges in 13 connected components: \n",
      "\tseeds: 38\n",
      "4592 network nodes without expressoin profiles and 78735 edges excluded\n",
      "1251 genes absent in the network excluded from the expression matrix\n"
     ]
    },
    {
     "name": "stdout",
     "output_type": "stream",
     "text": [
      "basename: TCGA-micro_r0.3_T0.001.RRHO_UP\n"
     ]
    },
    {
     "name": "stderr",
     "output_type": "stream",
     "text": [
      "Processed Input:\n",
      " \texpressions: 11959 genes x 529 patients; \n",
      "\tnetwork: 16702 genes  179514 edges in 2 connected components: \n",
      "\tseeds: 38\n",
      "Mininal number of patients in a module: 52\n",
      "Fixed step for RRHO selected: 10\n"
     ]
    }
   ],
   "source": [
    "########################## Read input paramethers ############\n",
    "# the direction of dysreguation\n",
    "direction = \"UP\" # \"UP\"  or \"DOWN\" \n",
    "\n",
    "# exprssoin matrix -- with standardized expression values\n",
    "exprs_file = \"TCGA_micro_nolog2.z.13K_common.tsv\"#\"METABRIC_micro_nolog2.z.13K_common.tsv\"#\"TCGA_RNAseq.RSEM.log2.z.13K_common.tsv\"#\n",
    "exprs_dir = \"/home/olya/SFU/Breast_cancer/Expression/Harmonized_final/\"\n",
    "exprs_file =  exprs_dir + exprs_file \n",
    "\n",
    "# network -- must be in NDEX2 format \n",
    "netwroks_dir = \"/home/olya/SFU/Breast_cancer/Networks/\"\n",
    "network_file = netwroks_dir + \"BioGRID.cx\" \n",
    "\n",
    "# seeds are optional and not used by default\n",
    "with_seeds = True \n",
    "if with_seeds:\n",
    "    seed_dir = \"/home/olya/SFU/Breast_cancer/seed_genes/\"\n",
    "    seeds_file = seed_dir+\"Somatic_drivers.seeds.txt\"\n",
    "    # if seeds provided, set RWR parameters \n",
    "    RWR_probability_thr = 0.001 # determines how large subnetworks will be; strongly depends on the network topology\n",
    "    r = 0.3 # expected number of steps is 2.3 for r=0.3 a\n",
    "    delta = 0.000001 # RWR tolerance \n",
    "    # read and preprocess input files: network, expressions and seeds\n",
    "    exprs, network, seeds = prepare_input_data(exprs_file, network_file, seeds_file, verbose = True)\n",
    "else: \n",
    "    # read and preprocess input files: network and expressions\n",
    "    exprs, network = prepare_input_data(exprs_file, network_file, verbose = True)\n",
    "    \n",
    "# where to write the results\n",
    "out_dir = \"/home/olya/SFU/Breast_cancer/example_run/\" # \n",
    "basename = \"TCGA-micro\"\n",
    "\n",
    "\n",
    "# minimal number of patients in a module\n",
    "min_n_patients = int(max(10,0.1*len(exprs.columns.values))) # set to nax(10, 10% of the cohort) \n",
    "# print(\"Fixed step for RRHO selected:\", ,file =sys.stderr)\n",
    "print(\"Mininal number of patients in a module:\",min_n_patients ,file=sys.stderr)\n",
    "\n",
    "# how to assign patients on edges\n",
    "method = \"RRHO\" # \"top_half\" or \"RRHO\"\n",
    "if method == \"RRHO\":\n",
    "    # set RRHO parameters\n",
    "    significance_thr=0.05\n",
    "    fixed_step = int(max(1,0.02*len(exprs.columns.values))) # 5-10-20 ~15\n",
    "    print(\"Fixed step for RRHO selected:\", fixed_step, file =sys.stderr)                \n",
    "\n",
    "if with_seeds:\n",
    "    basename +=\"_r\"+str(r)+\"_T\"+str(RWR_probability_thr)+\".\"+method+\"_\"+direction\n",
    "else:\n",
    "    basename +=\".\"+method+\"_\"+direction\n",
    "print(\"basename:\", basename)\n"
   ]
  },
  {
   "cell_type": "code",
   "execution_count": 5,
   "metadata": {},
   "outputs": [
    {
     "name": "stdout",
     "output_type": "stream",
     "text": [
      "Undirected graph with 2 connected components; with 11959 nodes and 179514 edges;\n",
      "Connected component 1 : 11956 nodes and 179512 edges\n",
      "Connected component 2 : 3 nodes and 2 edges\n"
     ]
    }
   ],
   "source": [
    "print_network_stats(network, print_cc = True)"
   ]
  },
  {
   "cell_type": "code",
   "execution_count": 6,
   "metadata": {},
   "outputs": [
    {
     "name": "stderr",
     "output_type": "stream",
     "text": [
      "Precomputing RRHO thresholds 3.65126419067 s\n"
     ]
    }
   ],
   "source": [
    "if method == \"RRHO\":\n",
    "     rrho_thresholds = precompute_RRHO_thresholds(exprs, fixed_step = fixed_step,significance_thr=significance_thr)"
   ]
  },
  {
   "cell_type": "markdown",
   "metadata": {},
   "source": [
    "# Step 0 [optional]:\n",
    "### 0.1  Set RWR input\n",
    "    * Compute normalized adjacency matrix $W_{norm}$ for graph $G$ representing PPI network  \n",
    "    * see r and deltha in inputs \n",
    "### 0.2 Run RWR from evety seed gene taken independently\n",
    "    - $G$ - undirected unweighted graph\n",
    "    - $r$ - probability of restart; expected lenght of walk before the restart is (1-r)/r\n",
    "    - $delta$ - threshold for $p_{t+1}-p_{t}$ - condition to stop RWR\n",
    "### 0.3 Merge subnetworks which share seed genes \n",
    " i.e. if two seed genes are closer than RWR_probability_thr, they will be in the same subnetwork"
   ]
  },
  {
   "cell_type": "code",
   "execution_count": 7,
   "metadata": {},
   "outputs": [
    {
     "name": "stderr",
     "output_type": "stream",
     "text": [
      "2.80133700371 s for adjacency matrix generation\n",
      "39.135997057 s distance matrix generation for 38 seeds\n"
     ]
    },
    {
     "name": "stdout",
     "output_type": "stream",
     "text": [
      "component 1 \n",
      "n_seeds 35 n_genes_in proximity 1619\n"
     ]
    },
    {
     "data": {
      "image/png": "[encoded data removed]",
      "text/plain": [
       "<Figure size 432x288 with 1 Axes>"
      ]
     },
     "metadata": {},
     "output_type": "display_data"
    },
    {
     "name": "stdout",
     "output_type": "stream",
     "text": [
      "component 2 \n",
      "n_seeds 1 n_genes_in proximity 43\n",
      "component 3 \n",
      "n_seeds 1 n_genes_in proximity 77\n",
      "component 4 \n",
      "n_seeds 1 n_genes_in proximity 7\n"
     ]
    },
    {
     "name": "stderr",
     "output_type": "stream",
     "text": [
      "Will search for modules in  4 following subnetworks\n",
      "nodes: 1619 edges: 31342\n",
      "nodes: 43 edges: 259\n",
      "nodes: 77 edges: 173\n",
      "nodes: 7 edges: 8\n"
     ]
    }
   ],
   "source": [
    "if with_seeds:\n",
    "    resulted_subnets  = create_subnetworks_from_seeds(network,seeds,r,delta,RWR_probability_thr, verbose = True)"
   ]
  },
  {
   "cell_type": "markdown",
   "metadata": {},
   "source": [
    "### Step1. Assign pateints to nodes \n",
    "1. every node gets sorted expression profile\n",
    "2. every edge gets an associated set of patients - up- or down- regulated by both genes \n",
    "    * method = \"top_halves\" - takes an intersection of top-50% of both lists\n",
    "    * method = \"RRHO\" - applies Rank-rank hypergeometric overlap\n",
    "\n",
    "### Step2.  Probabilistic clustering\n",
    " 1. set initial conditions\n",
    " 2. do sampling until convergenes or no more than max_n_steps\n",
    " 3. get consensus module membership\n",
    " \n",
    "### Step 3.  Post-processing\n",
    "\n",
    "## <s>[Greedy BFS]<\\s>\n",
    "### <s>2. Search for connected components <\\s>\n",
    "<s>Greedily grows connceted components starting from edges witrh maximal number of patients <\\s>\n",
    "\n",
    "### <s>3 Optimize the resulting modules<\\s>\n",
    "    <s>- optimize\n",
    "    - merge \n",
    "    - filter<\\s>\n",
    "        "
   ]
  },
  {
   "cell_type": "code",
   "execution_count": 8,
   "metadata": {},
   "outputs": [],
   "source": [
    "from method import  expression_profiles2nodes, assign_patients2edges, save_subnetworks,load_subnetworks\n",
    "from method import plot_patient_ditsribution_and_mask_edges, count_emtpy_edges, count_masked_edges, write_modules"
   ]
  },
  {
   "cell_type": "code",
   "execution_count": 9,
   "metadata": {
    "scrolled": true
   },
   "outputs": [
    {
     "name": "stderr",
     "output_type": "stream",
     "text": [
      "Genes in expression matrix (529, 1619)\n",
      "expression_profiles2nodes()\truntime: 0.86699 s\n",
      "\t 1000 edges processed. Average runtime per edge: 0.006337266445159912\n",
      "\t 2000 edges processed. Average runtime per edge: 0.005977502346038818\n",
      "\t 3000 edges processed. Average runtime per edge: 0.005947232723236084\n",
      "\t 4000 edges processed. Average runtime per edge: 0.0059567555785179135\n",
      "\t 5000 edges processed. Average runtime per edge: 0.00590014820098877\n",
      "\t 6000 edges processed. Average runtime per edge: 0.0058187179962793985\n",
      "\t 7000 edges processed. Average runtime per edge: 0.005693607636860438\n",
      "\t 8000 edges processed. Average runtime per edge: 0.005703650146722794\n",
      "\t 9000 edges processed. Average runtime per edge: 0.005733656512366401\n",
      "\t 10000 edges processed. Average runtime per edge: 0.0057979350090026855\n",
      "\t 11000 edges processed. Average runtime per edge: 0.005811344363472679\n",
      "\t 12000 edges processed. Average runtime per edge: 0.005867106715838114\n",
      "\t 13000 edges processed. Average runtime per edge: 0.005855818748474121\n",
      "\t 14000 edges processed. Average runtime per edge: 0.0058708930356161934\n",
      "\t 15000 edges processed. Average runtime per edge: 0.005865277449289958\n",
      "\t 16000 edges processed. Average runtime per edge: 0.005811488971114159\n",
      "\t 17000 edges processed. Average runtime per edge: 0.005811146301381728\n",
      "\t 18000 edges processed. Average runtime per edge: 0.005807812982135349\n",
      "\t 19000 edges processed. Average runtime per edge: 0.00578677353106047\n",
      "\t 20000 edges processed. Average runtime per edge: 0.005791122055053711\n",
      "\t 21000 edges processed. Average runtime per edge: 0.005774232092357817\n",
      "\t 22000 edges processed. Average runtime per edge: 0.005752596486698497\n",
      "\t 23000 edges processed. Average runtime per edge: 0.005749070250469705\n",
      "\t 24000 edges processed. Average runtime per edge: 0.005743518888950348\n",
      "\t 25000 edges processed. Average runtime per edge: 0.005743200626373291\n",
      "\t 26000 edges processed. Average runtime per edge: 0.005728542878077581\n",
      "\t 27000 edges processed. Average runtime per edge: 0.005723798963758681\n",
      "\t 28000 edges processed. Average runtime per edge: 0.00571814444235393\n",
      "\t 29000 edges processed. Average runtime per edge: 0.0057330291271209715\n",
      "\t 30000 edges processed. Average runtime per edge: 0.005748200988769531\n",
      "\t 31000 edges processed. Average runtime per edge: 0.005773941378439626\n",
      "assign_patients2edges()\truntime, s: 181.1489 for subnetwork of 1619 nodes 31342 edges and  patients.\n",
      "Genes in expression matrix (529, 43)\n",
      "expression_profiles2nodes()\truntime: 0.02921 s\n"
     ]
    },
    {
     "name": "stdout",
     "output_type": "stream",
     "text": [
      "Subnetwork 0 Edges without patients: 14426\n"
     ]
    },
    {
     "name": "stderr",
     "output_type": "stream",
     "text": [
      "assign_patients2edges()\truntime, s: 1.8563 for subnetwork of 43 nodes 259 edges and  patients.\n",
      "Genes in expression matrix (529, 77)\n",
      "expression_profiles2nodes()\truntime: 0.06638 s\n"
     ]
    },
    {
     "name": "stdout",
     "output_type": "stream",
     "text": [
      "Subnetwork 1 Edges without patients: 131\n",
      "Subnetwork 2 Edges without patients: 64\n",
      "Subnetwork 3 Edges without patients: 4\n"
     ]
    },
    {
     "name": "stderr",
     "output_type": "stream",
     "text": [
      "assign_patients2edges()\truntime, s: 0.8746 for subnetwork of 77 nodes 173 edges and  patients.\n",
      "Genes in expression matrix (529, 7)\n",
      "expression_profiles2nodes()\truntime: 0.00672 s\n",
      "assign_patients2edges()\truntime, s: 0.0488 for subnetwork of 7 nodes 8 edges and  patients.\n"
     ]
    }
   ],
   "source": [
    "for i in range(0,len(resulted_subnets)):\n",
    "    resulted_subnets[i] = expression_profiles2nodes(resulted_subnets[i], exprs, direction)\n",
    "    resulted_subnets[i] = assign_patients2edges(resulted_subnets[i], method= method,\n",
    "                                                    fixed_step=fixed_step,significance_thr=significance_thr,\n",
    "                                                    rrho_thrs = rrho_thresholds)\n",
    "    print(\"Subnetwork\",i,\"Edges without patients:\",count_emtpy_edges(resulted_subnets[i], thr = 0))"
   ]
  },
  {
   "cell_type": "code",
   "execution_count": 10,
   "metadata": {},
   "outputs": [
    {
     "data": {
      "text/plain": [
       "'/home/olya/SFU/Breast_cancer/example_run/TCGA-micro_r0.3_T0.001.RRHO_UP.subnetworks.txt'"
      ]
     },
     "execution_count": 10,
     "metadata": {},
     "output_type": "execute_result"
    }
   ],
   "source": [
    "# save subnetworks with assigned patients if necessary \n",
    "outfile_name =  out_dir + basename +\".subnetworks.txt\"\n",
    "outfile_name"
   ]
  },
  {
   "cell_type": "code",
   "execution_count": 11,
   "metadata": {},
   "outputs": [
    {
     "name": "stdout",
     "output_type": "stream",
     "text": [
      "edges masked: 0\n"
     ]
    },
    {
     "name": "stderr",
     "output_type": "stream",
     "text": [
      "save_subnetworks() runtime 4.65 s\n"
     ]
    }
   ],
   "source": [
    "print(\"edges masked:\",count_masked_edges(resulted_subnets[0]))\n",
    "save_subnetworks(resulted_subnets, outfile_name)\n",
    "#resulted_subnets = load_subnetworks(outfile_name)"
   ]
  },
  {
   "cell_type": "code",
   "execution_count": 12,
   "metadata": {},
   "outputs": [
    {
     "name": "stderr",
     "output_type": "stream",
     "text": [
      "load_subnetworks() runtime 8.56 s\n"
     ]
    }
   ],
   "source": [
    "resulted_subnets2 = load_subnetworks(outfile_name)"
   ]
  },
  {
   "cell_type": "code",
   "execution_count": 13,
   "metadata": {},
   "outputs": [
    {
     "name": "stdout",
     "output_type": "stream",
     "text": [
      "edges 31342 edges masked: 16006\n",
      "edges 259 edges masked: 139\n",
      "edges 173 edges masked: 69\n",
      "edges 8 edges masked: 4\n"
     ]
    },
    {
     "data": {
      "image/png": "[encoded data removed]",
      "text/plain": [
       "<Figure size 432x288 with 1 Axes>"
      ]
     },
     "metadata": {},
     "output_type": "display_data"
    }
   ],
   "source": [
    "for subnet in resulted_subnets:\n",
    "    plot_patient_ditsribution_and_mask_edges(subnet,min_n_patients=min_n_patients,title=\"Distribution of patients associated with edges.\")\n",
    "    print(\"edges\",len(subnet.edges()),\"edges masked:\",count_masked_edges(subnet))"
   ]
  },
  {
   "cell_type": "markdown",
   "metadata": {},
   "source": [
    "### 2. Sample module memberships"
   ]
  },
  {
   "cell_type": "code",
   "execution_count": 14,
   "metadata": {},
   "outputs": [],
   "source": [
    "from method import  set_initial_distribution,sampling, get_consensus_module_membrship\n",
    "from method import check_convergence_condition, restore_modules, get_genes, get_opt_pat_set\n",
    "from post_processing import plot_bic_stats, write_modules, merge_modules"
   ]
  },
  {
   "cell_type": "code",
   "execution_count": 15,
   "metadata": {},
   "outputs": [
    {
     "name": "stderr",
     "output_type": "stream",
     "text": [
      "0.04 s runtime\n",
      "loaded TCGA-micro_r0.3_T0.001.RRHO_UP.edgeNeighorhood.npy file in 0.15 s\n",
      "0.0 s runtime\n"
     ]
    },
    {
     "name": "stdout",
     "output_type": "stream",
     "text": [
      "(15336, 529) (15336, 529)\n"
     ]
    },
    {
     "name": "stderr",
     "output_type": "stream",
     "text": [
      "0.89 s runtime\n"
     ]
    }
   ],
   "source": [
    "# initial distribution\n",
    "edges, edgeNeighorhood, edge2module, moduleSizes,  edge2patients, nOnesPerPatientInModules = set_initial_distribution(resulted_subnets[0], exprs, basename, out_dir)"
   ]
  },
  {
   "cell_type": "code",
   "execution_count": 16,
   "metadata": {
    "scrolled": true
   },
   "outputs": [
    {
     "name": "stdout",
     "output_type": "stream",
     "text": [
      "step 1 n_changes 12902\n"
     ]
    },
    {
     "name": "stderr",
     "output_type": "stream",
     "text": [
      "54.9552 s runtime\n"
     ]
    },
    {
     "name": "stdout",
     "output_type": "stream",
     "text": [
      "step 2 n_changes 3799\n"
     ]
    },
    {
     "name": "stderr",
     "output_type": "stream",
     "text": [
      "30.8358 s runtime\n"
     ]
    },
    {
     "name": "stdout",
     "output_type": "stream",
     "text": [
      "step 3 n_changes 679\n"
     ]
    },
    {
     "name": "stderr",
     "output_type": "stream",
     "text": [
      "29.0731 s runtime\n"
     ]
    },
    {
     "name": "stdout",
     "output_type": "stream",
     "text": [
      "step 4 n_changes 181\n"
     ]
    },
    {
     "name": "stderr",
     "output_type": "stream",
     "text": [
      "30.0532 s runtime\n"
     ]
    },
    {
     "name": "stdout",
     "output_type": "stream",
     "text": [
      "step 5 n_changes 74\n"
     ]
    },
    {
     "name": "stderr",
     "output_type": "stream",
     "text": [
      "30.5793 s runtime\n"
     ]
    },
    {
     "name": "stdout",
     "output_type": "stream",
     "text": [
      "step 6 n_changes 39\n"
     ]
    },
    {
     "name": "stderr",
     "output_type": "stream",
     "text": [
      "31.9984 s runtime\n"
     ]
    },
    {
     "name": "stdout",
     "output_type": "stream",
     "text": [
      "step 7 n_changes 20\n"
     ]
    },
    {
     "name": "stderr",
     "output_type": "stream",
     "text": [
      "31.3661 s runtime\n"
     ]
    },
    {
     "name": "stdout",
     "output_type": "stream",
     "text": [
      "step 8 n_changes 17\n"
     ]
    },
    {
     "name": "stderr",
     "output_type": "stream",
     "text": [
      "31.6184 s runtime\n"
     ]
    },
    {
     "name": "stdout",
     "output_type": "stream",
     "text": [
      "step 9 n_changes 18\n"
     ]
    },
    {
     "name": "stderr",
     "output_type": "stream",
     "text": [
      "31.7012 s runtime\n"
     ]
    },
    {
     "name": "stdout",
     "output_type": "stream",
     "text": [
      "step 10 n_changes 17\n"
     ]
    },
    {
     "name": "stderr",
     "output_type": "stream",
     "text": [
      "29.3385 s runtime\n"
     ]
    },
    {
     "name": "stdout",
     "output_type": "stream",
     "text": [
      "step 11 n_changes 32\n"
     ]
    },
    {
     "name": "stderr",
     "output_type": "stream",
     "text": [
      "31.3604 s runtime\n"
     ]
    },
    {
     "name": "stdout",
     "output_type": "stream",
     "text": [
      "step 12 n_changes 27\n"
     ]
    },
    {
     "name": "stderr",
     "output_type": "stream",
     "text": [
      "28.5568 s runtime\n"
     ]
    },
    {
     "name": "stdout",
     "output_type": "stream",
     "text": [
      "step 13 n_changes 26\n"
     ]
    },
    {
     "name": "stderr",
     "output_type": "stream",
     "text": [
      "28.2816 s runtime\n"
     ]
    },
    {
     "name": "stdout",
     "output_type": "stream",
     "text": [
      "step 14 n_changes 23\n"
     ]
    },
    {
     "name": "stderr",
     "output_type": "stream",
     "text": [
      "29.2994 s runtime\n"
     ]
    },
    {
     "name": "stdout",
     "output_type": "stream",
     "text": [
      "step 15 n_changes 8\n"
     ]
    },
    {
     "name": "stderr",
     "output_type": "stream",
     "text": [
      "28.7687 s runtime\n"
     ]
    },
    {
     "name": "stdout",
     "output_type": "stream",
     "text": [
      "step 16 n_changes 12\n"
     ]
    },
    {
     "name": "stderr",
     "output_type": "stream",
     "text": [
      "28.9689 s runtime\n"
     ]
    },
    {
     "name": "stdout",
     "output_type": "stream",
     "text": [
      "step 17 n_changes 13\n"
     ]
    },
    {
     "name": "stderr",
     "output_type": "stream",
     "text": [
      "29.5871 s runtime\n"
     ]
    },
    {
     "name": "stdout",
     "output_type": "stream",
     "text": [
      "step 18 n_changes 8\n"
     ]
    },
    {
     "name": "stderr",
     "output_type": "stream",
     "text": [
      "29.4162 s runtime\n"
     ]
    },
    {
     "name": "stdout",
     "output_type": "stream",
     "text": [
      "step 19 n_changes 10\n"
     ]
    },
    {
     "name": "stderr",
     "output_type": "stream",
     "text": [
      "30.2551 s runtime\n"
     ]
    },
    {
     "name": "stdout",
     "output_type": "stream",
     "text": [
      "step 20 n_changes 10\n"
     ]
    },
    {
     "name": "stderr",
     "output_type": "stream",
     "text": [
      "29.8377 s runtime\n"
     ]
    },
    {
     "name": "stdout",
     "output_type": "stream",
     "text": [
      "step 21 n_changes 10\n"
     ]
    },
    {
     "name": "stderr",
     "output_type": "stream",
     "text": [
      "30.0454 s runtime\n"
     ]
    },
    {
     "name": "stdout",
     "output_type": "stream",
     "text": [
      "step 22 n_changes 8\n"
     ]
    },
    {
     "name": "stderr",
     "output_type": "stream",
     "text": [
      "30.5888 s runtime\n"
     ]
    },
    {
     "name": "stdout",
     "output_type": "stream",
     "text": [
      "step 23 n_changes 13\n"
     ]
    },
    {
     "name": "stderr",
     "output_type": "stream",
     "text": [
      "29.3395 s runtime\n"
     ]
    },
    {
     "name": "stdout",
     "output_type": "stream",
     "text": [
      "step 24 n_changes 10\n"
     ]
    },
    {
     "name": "stderr",
     "output_type": "stream",
     "text": [
      "29.9021 s runtime\n"
     ]
    },
    {
     "name": "stdout",
     "output_type": "stream",
     "text": [
      "step 25 n_changes 11\n"
     ]
    },
    {
     "name": "stderr",
     "output_type": "stream",
     "text": [
      "28.8315 s runtime\n"
     ]
    },
    {
     "name": "stdout",
     "output_type": "stream",
     "text": [
      "step 26 n_changes 5\n"
     ]
    },
    {
     "name": "stderr",
     "output_type": "stream",
     "text": [
      "33.5916 s runtime\n"
     ]
    },
    {
     "name": "stdout",
     "output_type": "stream",
     "text": [
      "step 27 n_changes 7\n"
     ]
    },
    {
     "name": "stderr",
     "output_type": "stream",
     "text": [
      "28.5274 s runtime\n"
     ]
    },
    {
     "name": "stdout",
     "output_type": "stream",
     "text": [
      "step 28 n_changes 7\n"
     ]
    },
    {
     "name": "stderr",
     "output_type": "stream",
     "text": [
      "31.5827 s runtime\n"
     ]
    },
    {
     "name": "stdout",
     "output_type": "stream",
     "text": [
      "step 29 n_changes 10\n"
     ]
    },
    {
     "name": "stderr",
     "output_type": "stream",
     "text": [
      "30.0199 s runtime\n"
     ]
    },
    {
     "name": "stdout",
     "output_type": "stream",
     "text": [
      "step 30 n_changes 6\n"
     ]
    },
    {
     "name": "stderr",
     "output_type": "stream",
     "text": [
      "30.1268 s runtime\n"
     ]
    },
    {
     "name": "stdout",
     "output_type": "stream",
     "text": [
      "step 31 n_changes 5\n"
     ]
    },
    {
     "name": "stderr",
     "output_type": "stream",
     "text": [
      "30.8842 s runtime\n"
     ]
    },
    {
     "name": "stdout",
     "output_type": "stream",
     "text": [
      "step 32 n_changes 9\n"
     ]
    },
    {
     "name": "stderr",
     "output_type": "stream",
     "text": [
      "29.8395 s runtime\n"
     ]
    },
    {
     "name": "stdout",
     "output_type": "stream",
     "text": [
      "step 33 n_changes 10\n"
     ]
    },
    {
     "name": "stderr",
     "output_type": "stream",
     "text": [
      "30.726 s runtime\n"
     ]
    },
    {
     "name": "stdout",
     "output_type": "stream",
     "text": [
      "step 34 n_changes 8\n"
     ]
    },
    {
     "name": "stderr",
     "output_type": "stream",
     "text": [
      "29.3066 s runtime\n"
     ]
    },
    {
     "name": "stdout",
     "output_type": "stream",
     "text": [
      "step 35 n_changes 6\n"
     ]
    },
    {
     "name": "stderr",
     "output_type": "stream",
     "text": [
      "29.0003 s runtime\n",
      "The model converged after 35 steps.\n"
     ]
    }
   ],
   "source": [
    "# sampling \n",
    "alpha = 0.1\n",
    "beta_K = 1.0\n",
    "max_n_steps  = 100\n",
    "min_pletau_steps = 30\n",
    "edge2module_history, edges_skip_history, edge2module_history_slice =  sampling(edges,  edgeNeighorhood, edge2module, edge2patients,  moduleSizes,nOnesPerPatientInModules, \n",
    "                                                                               max_n_steps=max_n_steps,alpha = alpha, beta_K = beta_K,min_pletau_steps = min_pletau_steps)\n",
    "\n",
    "# save intermidiate results \n",
    "np.save(out_dir+basename+\".edge2module_history.a=\"+str(alpha)+\".b=\"+str(beta_K), edge2module_history)\n",
    "np.save(out_dir+basename+\".edges_skip_history.a=\"+str(alpha)+\".b=\"+str(beta_K), edges_skip_history)\n",
    "np.save(out_dir+basename+\".edges.a=\"+str(alpha)+\".b=\"+str(beta_K), edges)"
   ]
  },
  {
   "cell_type": "code",
   "execution_count": 20,
   "metadata": {},
   "outputs": [],
   "source": [
    "alpha = 0.1\n",
    "beta_K = 1.0\n",
    "max_n_steps  = 100 \n",
    "min_pletau_steps = 30\n",
    "edge2module_history = np.load(out_dir+basename+\".edge2module_history.a=\"+str(alpha)+\".b=\"+str(beta_K)+\".npy\")\n",
    "edges_skip_history = np.load(out_dir+basename+\".edges_skip_history.a=\"+str(alpha)+\".b=\"+str(beta_K)+\".npy\")\n",
    "edges = np.load(out_dir+basename+\".edges.a=\"+str(alpha)+\".b=\"+str(beta_K)+\".npy\")\n",
    "edge2module_history_slice = edge2module_history[-min_pletau_steps:]"
   ]
  },
  {
   "cell_type": "code",
   "execution_count": 21,
   "metadata": {
    "scrolled": true
   },
   "outputs": [
    {
     "name": "stderr",
     "output_type": "stream",
     "text": [
      "Warning: less than 50% of time in the most frequent module\n",
      "\tedge: 3315 counts: [ 3 13 14] \n",
      "\tlabels: 3315,3315,3315,9864,9864,9319,9864,9864,9319,9319,9864,9864,9319,9864,9864,9864,9319,9864,9319,9319,9319,9319,9864,9319,9864,9864,9319,9319,9864,9319\n"
     ]
    }
   ],
   "source": [
    "# consensus edge-to-module membership\n",
    "consensus_edge2module = get_consensus_module_membrship(edge2module_history_slice, edges)"
   ]
  },
  {
   "cell_type": "code",
   "execution_count": 22,
   "metadata": {},
   "outputs": [
    {
     "name": "stderr",
     "output_type": "stream",
     "text": [
      "1.04 s runtime\n"
     ]
    },
    {
     "name": "stdout",
     "output_type": "stream",
     "text": [
      "empty modules: 13582 non-empty modules: 1754\n"
     ]
    },
    {
     "data": {
      "image/png": "[encoded data removed]",
      "text/plain": [
       "<Figure size 432x288 with 1 Axes>"
      ]
     },
     "metadata": {},
     "output_type": "display_data"
    }
   ],
   "source": [
    "# make moduleSizes, nOnesPerPatientInModules corresponding to consensus module mebership \n",
    "moduleSizes, nOnesPerPatientInModules = restore_modules(consensus_edge2module,edges,resulted_subnets[0],exprs)\n",
    "\n",
    "print(\"empty modules:\", len([x for x in moduleSizes if x == 0]),\n",
    "      \"non-empty modules:\",len([x for x in moduleSizes if x != 0]))\n",
    "tmp = plt.hist(moduleSizes, bins=50, range=(1,max(moduleSizes)))"
   ]
  },
  {
   "cell_type": "code",
   "execution_count": 41,
   "metadata": {
    "scrolled": true
   },
   "outputs": [
    {
     "name": "stdout",
     "output_type": "stream",
     "text": [
      "1256\n"
     ]
    },
    {
     "data": {
      "image/png": "[encoded data removed]",
      "text/plain": [
       "<Figure size 1440x360 with 3 Axes>"
      ]
     },
     "metadata": {},
     "output_type": "display_data"
    }
   ],
   "source": [
    "bics = []\n",
    "for mid in range(0,len(moduleSizes)):\n",
    "    if moduleSizes[mid]>1:\n",
    "        genes = get_genes(mid,edge2module=consensus_edge2module,edges=edges)\n",
    "        pats, thr, avgSNR = get_opt_pat_set(nOnesPerPatientInModules[mid,], moduleSizes[mid,],\n",
    "                                            exprs, genes, min_n_patients=min_n_patients)\n",
    "        bics.append({\"genes\":set(genes), \"patients\":set(pats), \"avgSNR\":avgSNR,\"id\":mid})\n",
    "\n",
    "\n",
    "plot_bic_stats(bics)\n",
    "print(len(bics))"
   ]
  },
  {
   "cell_type": "markdown",
   "metadata": {},
   "source": [
    "### 3. Post-processing: Filter the resulting modules and do post-processing:\n",
    " * exclude all the modules with low SNR < 0.5\n",
    " * repeat until the list of modules is non-empty \n",
    "    * select module with maximal SNR\n",
    "    * find all the candidates with at least 75% of mutual patinet ovelap and at least 1 gene shared\n",
    "    * try merging with every candidate and calcuate new threshold with max. abs. SNR\n",
    "    * select one with max SNR but with loss no more than 10 %\n",
    "    * if any suitable candidates found - merge \n",
    "    * else save module and remove it from the list"
   ]
  },
  {
   "cell_type": "code",
   "execution_count": 42,
   "metadata": {},
   "outputs": [],
   "source": [
    "min_SNR = 0.5\n",
    "min_patient_overlap = 0.75 # at least 75 % of candidates \n",
    "allowed_SNR_decrease  = 0.1 # maximum allowed % of SNR decrease when merge two modules \n",
    "# -i.e. new module loses after merge no more than 10% of SNR "
   ]
  },
  {
   "cell_type": "code",
   "execution_count": 43,
   "metadata": {},
   "outputs": [
    {
     "name": "stdout",
     "output_type": "stream",
     "text": [
      "313\n"
     ]
    },
    {
     "data": {
      "image/png": "[encoded data removed]",
      "text/plain": [
       "<Figure size 1440x360 with 3 Axes>"
      ]
     },
     "metadata": {},
     "output_type": "display_data"
    }
   ],
   "source": [
    "filtered_bics = []\n",
    "for bic in bics:\n",
    "    if bic[\"avgSNR\"] > min_SNR:\n",
    "        filtered_bics.append(copy.copy(bic))\n",
    "plot_bic_stats(filtered_bics)\n",
    "print(len(filtered_bics))"
   ]
  },
  {
   "cell_type": "code",
   "execution_count": 46,
   "metadata": {},
   "outputs": [
    {
     "name": "stderr",
     "output_type": "stream",
     "text": [
      "0.15 s runtime\n"
     ]
    }
   ],
   "source": [
    "resulting_modules = merge_modules(filtered_bics, copy.copy(nOnesPerPatientInModules),copy.copy(moduleSizes),exprs,SNRs = [],\n",
    "                              min_patient_overlap = min_patient_overlap,\n",
    "                              min_acceptable_SNR_percent=1-allowed_SNR_decrease, verbose= False)"
   ]
  },
  {
   "cell_type": "code",
   "execution_count": 47,
   "metadata": {},
   "outputs": [
    {
     "name": "stdout",
     "output_type": "stream",
     "text": [
      "0 module: 4437 SNR 0.966 pats 175 genes 3\n",
      "1 module: 13374 SNR 0.938 pats 156 genes 4\n",
      "2 module: 9262 SNR 0.927 pats 94 genes 4\n",
      "3 module: 10933 SNR 0.918 pats 232 genes 4\n",
      "4 module: 13929 SNR 0.915 pats 218 genes 12\n",
      "5 module: 10614 SNR 0.906 pats 136 genes 5\n",
      "6 module: 8165 SNR 0.892 pats 157 genes 3\n",
      "7 module: 12438 SNR 0.892 pats 172 genes 3\n",
      "8 module: 782 SNR 0.87 pats 157 genes 3\n",
      "9 module: 11261 SNR 0.867 pats 56 genes 9\n",
      "10 module: 13580 SNR 0.866 pats 146 genes 5\n",
      "11 module: 14145 SNR 0.864 pats 75 genes 3\n",
      "12 module: 13907 SNR 0.854 pats 122 genes 3\n",
      "13 module: 14154 SNR 0.847 pats 144 genes 4\n",
      "14 module: 12439 SNR 0.834 pats 58 genes 5\n",
      "15 module: 12909 SNR 0.827 pats 67 genes 4\n",
      "16 module: 13370 SNR 0.826 pats 149 genes 3\n",
      "17 module: 10904 SNR 0.817 pats 83 genes 7\n",
      "18 module: 4535 SNR 0.803 pats 128 genes 3\n",
      "19 module: 12375 SNR 0.803 pats 127 genes 3\n",
      "20 module: 9781 SNR 0.801 pats 134 genes 3\n",
      "312\n"
     ]
    },
    {
     "data": {
      "image/png": "[encoded data removed]",
      "text/plain": [
       "<Figure size 1440x360 with 3 Axes>"
      ]
     },
     "metadata": {},
     "output_type": "display_data"
    }
   ],
   "source": [
    "i=0\n",
    "for bic in resulting_modules:\n",
    "    if bic[\"avgSNR\"]> 0.8:\n",
    "        print(i,\"module:\",bic[\"id\"],\"SNR\",bic[\"avgSNR\"], \"pats\",len(bic[\"patients\"]), \"genes\", len(bic[\"genes\"]))\n",
    "    i+=1\n",
    "print(len(resulting_modules))\n",
    "plot_bic_stats(resulting_modules)"
   ]
  },
  {
   "cell_type": "code",
   "execution_count": 48,
   "metadata": {},
   "outputs": [
    {
     "name": "stderr",
     "output_type": "stream",
     "text": [
      "312 modules written to /home/olya/SFU/Breast_cancer/example_run/TCGA-micro_r0.3_T0.001.RRHO_UP.minSNR_0.5.modules.txt\n"
     ]
    }
   ],
   "source": [
    "def write_modules(bics,file_name):\n",
    "    fopen = open(file_name,\"w\")\n",
    "    for bic in bics:\n",
    "        print(\"id:\\t\"+str(bic[\"id\"]), file=fopen)\n",
    "        print(\"average SNR:\\t\"+str(bic[\"avgSNR\"]),file=fopen)\n",
    "        print(\"genes:\\t\"+\" \".join(bic[\"genes\"]),file=fopen)\n",
    "        print(\"patients:\\t\"+\" \".join(bic[\"patients\"]),file=fopen)\n",
    "    fopen.close()\n",
    "    print(str(len(bics)),\"modules written to\",file_name,file = sys.stderr)\n",
    "    \n",
    "file_name = out_dir+basename+\".minSNR_\"+str(min_SNR)+\".modules.txt\"\n",
    "write_modules(resulting_modules,file_name)"
   ]
  },
  {
   "cell_type": "code",
   "execution_count": null,
   "metadata": {},
   "outputs": [],
   "source": []
  }
 ],
 "metadata": {
  "anaconda-cloud": {},
  "kernelspec": {
   "display_name": "Python [conda env:anaconda3]",
   "language": "python",
   "name": "conda-env-anaconda3-py"
  },
  "language_info": {
   "codemirror_mode": {
    "name": "ipython",
    "version": 2
   },
   "file_extension": ".py",
   "mimetype": "text/x-python",
   "name": "python",
   "nbconvert_exporter": "python",
   "pygments_lexer": "ipython2",
   "version": "2.7.15"
  }
 },
 "nbformat": 4,
 "nbformat_minor": 1
}
