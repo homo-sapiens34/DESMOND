{
 "cells": [
  {
   "cell_type": "code",
   "execution_count": 1,
   "metadata": {
    "scrolled": true
   },
   "outputs": [
    {
     "name": "stderr",
     "output_type": "stream",
     "text": [
      "NetworkX version 1.11\n"
     ]
    }
   ],
   "source": [
    "from __future__ import print_function\n",
    "import sys,os\n",
    "\n",
    "import numpy as np\n",
    "from scipy.stats import hypergeom # ,fisher_exact\n",
    "from fisher import pvalue\n",
    "import pandas as pd\n",
    " \n",
    "import networkx as nx\n",
    "print(\"NetworkX version\",nx.__version__, file = sys.stderr) # should be < 2\n",
    "import ndex2.client\n",
    "import ndex2\n",
    "\n",
    "import itertools\n",
    "import warnings\n",
    "import time\n",
    "import copy\n",
    "import random\n",
    "\n",
    "import matplotlib\n",
    "import matplotlib.pyplot as plt \n",
    "from mpl_toolkits.mplot3d import axes3d \n",
    "import seaborn as sns\n",
    "\n",
    "%matplotlib inline"
   ]
  },
  {
   "cell_type": "code",
   "execution_count": 2,
   "metadata": {},
   "outputs": [],
   "source": [
    "sys.path.append(os.path.abspath(\"/home/olya/SFU/Breast_cancer/DESMOND/\"))\n",
    "from method import prepare_input_data, print_network_stats\n",
    "from method import precompute_RRHO_thresholds\n"
   ]
  },
  {
   "cell_type": "code",
   "execution_count": 3,
   "metadata": {},
   "outputs": [
    {
     "name": "stderr",
     "output_type": "stream",
     "text": [
      "Input:\n",
      " \texpressions: 13361 genes x 529 patients; \n",
      "\tnetwork: 16702 genes, 258257 edges in 13 connected components: \n",
      "\tseeds: 0\n",
      "4592 network nodes without expressoin profiles and 78735 edges excluded\n",
      "1251 genes absent in the network excluded from the expression matrix\n"
     ]
    },
    {
     "name": "stdout",
     "output_type": "stream",
     "text": [
      "basename: TCGA-micro.RRHO_UP\n"
     ]
    },
    {
     "name": "stderr",
     "output_type": "stream",
     "text": [
      "Processed Input:\n",
      " \texpressions: 11959 genes x 529 patients; \n",
      "\tnetwork: 16702 genes  179514 edges in 2 connected components:\n",
      "Mininal number of patients in a module: 52\n",
      "Fixed step for RRHO selected: 10\n"
     ]
    }
   ],
   "source": [
    "########################## Input paramethers ############\n",
    "# the direction of dysreguation\n",
    "direction = \"UP\" # \"UP\"  or \"DOWN\" \n",
    "\n",
    "# exprssoin matrix -- with standardized expression values\n",
    "exprs_file = \"TCGA_micro_nolog2.z.13K_common.tsv\"#\"METABRIC_micro_nolog2.z.13K_common.tsv\"#\"TCGA_RNAseq.RSEM.log2.z.13K_common.tsv\"#\n",
    "exprs_dir = \"/home/olya/SFU/Breast_cancer/Expression/Harmonized_final/\"\n",
    "exprs_file =  exprs_dir + exprs_file \n",
    "\n",
    "# network -- must be in NDEX2 format \n",
    "netwroks_dir = \"/home/olya/SFU/Breast_cancer/Networks/\"\n",
    "network_file = netwroks_dir + \"BioGRID.cx\" \n",
    "\n",
    "# seeds are optional and not used by default\n",
    "with_seeds = False\n",
    "if with_seeds:\n",
    "    from RWR import create_subnetworks_from_seeds \n",
    "    seed_dir = \"/home/olya/SFU/Breast_cancer/seed_genes/\"\n",
    "    seeds_file = seed_dir+\"Somatic_drivers.seeds.txt\"\n",
    "    # if seeds provided, set RWR parameters \n",
    "    RWR_probability_thr = 0.001 # determines how large subnetworks will be; strongly depends on the network topology\n",
    "    r = 0.3 # expected number of steps is 2.3 for r=0.3 a\n",
    "    delta = 0.000001 # RWR tolerance \n",
    "    # read and preprocess input files: network, expressions and seeds\n",
    "    exprs, network, seeds = prepare_input_data(exprs_file, network_file, seeds_file, verbose = True)\n",
    "else: \n",
    "    # read and preprocess input files: network and expressions\n",
    "    exprs, network = prepare_input_data(exprs_file, network_file, verbose = True)\n",
    "    \n",
    "# where to write the results\n",
    "out_dir = \"/home/olya/SFU/Breast_cancer/example_run/\" # \n",
    "basename = \"TCGA-micro\"\n",
    "\n",
    "\n",
    "# minimal number of patients in a module\n",
    "min_n_patients = int(max(10,0.1*len(exprs.columns.values))) # set to nax(10, 10% of the cohort) \n",
    "# print(\"Fixed step for RRHO selected:\", ,file =sys.stderr)\n",
    "print(\"Mininal number of patients in a module:\",min_n_patients ,file=sys.stderr)\n",
    "\n",
    "# how to assign patients on edges\n",
    "method = \"RRHO\" # \"top_half\" or \"RRHO\"\n",
    "if method == \"RRHO\":\n",
    "    # set RRHO parameters\n",
    "    significance_thr=0.05\n",
    "    fixed_step = int(max(1,0.02*len(exprs.columns.values))) # 5-10-20 ~15\n",
    "    print(\"Fixed step for RRHO selected:\", fixed_step, file =sys.stderr)                \n",
    "\n",
    "if with_seeds:\n",
    "    basename +=\"_r\"+str(r)+\"_T\"+str(RWR_probability_thr)+\".\"+method+\"_\"+direction\n",
    "else:\n",
    "    basename +=\".\"+method+\"_\"+direction\n",
    "print(\"basename:\", basename)\n",
    "\n",
    "\n",
    "### Sampling parameters \n",
    "alpha = 0.1\n",
    "beta_K = 1.0\n",
    "max_n_steps  = 100\n",
    "min_pletau_steps = 30\n",
    "\n",
    "### Merging parameters \n",
    "min_SNR = 0.5\n",
    "min_patient_overlap = 0.75 # at least 75 % of candidates \n",
    "allowed_SNR_decrease  = 0.1 # maximum allowed % of SNR decrease when merge two modules \n",
    "# -i.e. new module loses after merge no more than 10% of SNR "
   ]
  },
  {
   "cell_type": "code",
   "execution_count": 4,
   "metadata": {},
   "outputs": [
    {
     "name": "stdout",
     "output_type": "stream",
     "text": [
      "Undirected graph with 2 connected components; with 11959 nodes and 179514 edges;\n",
      "Connected component 1 : 11956 nodes and 179512 edges\n",
      "Connected component 2 : 3 nodes and 2 edges\n"
     ]
    }
   ],
   "source": [
    "print_network_stats(network, print_cc = True)"
   ]
  },
  {
   "cell_type": "code",
   "execution_count": 5,
   "metadata": {},
   "outputs": [
    {
     "name": "stderr",
     "output_type": "stream",
     "text": [
      "Precomputing RRHO thresholds 3.64189791679 s\n"
     ]
    }
   ],
   "source": [
    "if method == \"RRHO\":\n",
    "     rrho_thresholds = precompute_RRHO_thresholds(exprs, fixed_step = fixed_step,significance_thr=significance_thr)"
   ]
  },
  {
   "cell_type": "markdown",
   "metadata": {},
   "source": [
    "### Step1. Assign pateints to nodes \n",
    "1. every node gets sorted expression profile\n",
    "2. every edge gets an associated set of patients - up- or down- regulated by both genes \n",
    "    * method = \"top_halves\" - takes an intersection of top-50% of both lists\n",
    "    * method = \"RRHO\" - applies Rank-rank hypergeometric overlap\n",
    "\n",
    "### Step2.  Probabilistic clustering\n",
    " 1. set initial conditions\n",
    " 2. do sampling until convergenes or no more than max_n_steps\n",
    " 3. get consensus module membership\n",
    " \n",
    "### Step 3.  Post-processing\n",
    "\n",
    "## <s>[Greedy BFS]<\\s>\n",
    "### <s>2. Search for connected components <\\s>\n",
    "<s>Greedily grows connceted components starting from edges witrh maximal number of patients <\\s>\n",
    "\n",
    "### <s>3 Optimize the resulting modules<\\s>\n",
    "    <s>- optimize\n",
    "    - merge \n",
    "    - filter<\\s>\n",
    "        "
   ]
  },
  {
   "cell_type": "code",
   "execution_count": 9,
   "metadata": {},
   "outputs": [],
   "source": [
    "from method import  expression_profiles2nodes, assign_patients2edges, save_subnetworks,load_subnetworks\n",
    "from method import plot_patient_ditsribution_and_mask_edges, count_emtpy_edges, count_masked_edges, write_modules"
   ]
  },
  {
   "cell_type": "code",
   "execution_count": 10,
   "metadata": {
    "scrolled": true
   },
   "outputs": [
    {
     "name": "stderr",
     "output_type": "stream",
     "text": [
      "Genes in expression matrix (529, 11959)\n",
      "expression_profiles2nodes()\truntime: 5.09767 s\n",
      "\t 1000 edges processed. Average runtime per edge: 0.006096119165420532\n",
      "\t 2000 edges processed. Average runtime per edge: 0.005978760838508606\n",
      "\t 3000 edges processed. Average runtime per edge: 0.006228507359822591\n",
      "\t 4000 edges processed. Average runtime per edge: 0.006300877869129181\n",
      "\t 5000 edges processed. Average runtime per edge: 0.006330322790145874\n",
      "\t 6000 edges processed. Average runtime per edge: 0.00628080960114797\n",
      "\t 7000 edges processed. Average runtime per edge: 0.006362632478986468\n",
      "\t 8000 edges processed. Average runtime per edge: 0.006377766817808151\n",
      "\t 9000 edges processed. Average runtime per edge: 0.006301684035195244\n",
      "\t 10000 edges processed. Average runtime per edge: 0.006244749808311462\n",
      "\t 11000 edges processed. Average runtime per edge: 0.006099294900894165\n",
      "\t 12000 edges processed. Average runtime per edge: 0.0060042222142219544\n",
      "\t 13000 edges processed. Average runtime per edge: 0.006021936746744009\n",
      "\t 14000 edges processed. Average runtime per edge: 0.006032887424741473\n",
      "\t 15000 edges processed. Average runtime per edge: 0.00599399627049764\n",
      "\t 16000 edges processed. Average runtime per edge: 0.005978237703442573\n",
      "\t 17000 edges processed. Average runtime per edge: 0.005980493910172406\n",
      "\t 18000 edges processed. Average runtime per edge: 0.005984743489159478\n",
      "\t 19000 edges processed. Average runtime per edge: 0.005985763349031148\n",
      "\t 20000 edges processed. Average runtime per edge: 0.005998864006996155\n",
      "\t 21000 edges processed. Average runtime per edge: 0.006005900360289074\n",
      "\t 22000 edges processed. Average runtime per edge: 0.005986317407001149\n",
      "\t 23000 edges processed. Average runtime per edge: 0.005968479788821677\n",
      "\t 24000 edges processed. Average runtime per edge: 0.005944947242736817\n",
      "\t 25000 edges processed. Average runtime per edge: 0.005946588315963745\n",
      "\t 26000 edges processed. Average runtime per edge: 0.005959323580448444\n",
      "\t 27000 edges processed. Average runtime per edge: 0.005979003235145852\n",
      "\t 28000 edges processed. Average runtime per edge: 0.005970356728349413\n",
      "\t 29000 edges processed. Average runtime per edge: 0.0060178402538957265\n",
      "\t 30000 edges processed. Average runtime per edge: 0.00602792059580485\n",
      "\t 31000 edges processed. Average runtime per edge: 0.00602994328929532\n",
      "\t 32000 edges processed. Average runtime per edge: 0.006037232518196106\n",
      "\t 33000 edges processed. Average runtime per edge: 0.006038459315444484\n",
      "\t 34000 edges processed. Average runtime per edge: 0.006037873148918152\n",
      "\t 35000 edges processed. Average runtime per edge: 0.006041628871645246\n",
      "\t 36000 edges processed. Average runtime per edge: 0.006055715832445356\n",
      "\t 37000 edges processed. Average runtime per edge: 0.006044737790081952\n",
      "\t 38000 edges processed. Average runtime per edge: 0.006029162055567691\n",
      "\t 39000 edges processed. Average runtime per edge: 0.0060239759530776585\n",
      "\t 40000 edges processed. Average runtime per edge: 0.006011963200569153\n",
      "\t 41000 edges processed. Average runtime per edge: 0.006013723960736903\n",
      "\t 42000 edges processed. Average runtime per edge: 0.005997653501374381\n",
      "\t 43000 edges processed. Average runtime per edge: 0.0060012043076892235\n",
      "\t 44000 edges processed. Average runtime per edge: 0.005996203444220803\n",
      "\t 45000 edges processed. Average runtime per edge: 0.005981353786256578\n",
      "\t 46000 edges processed. Average runtime per edge: 0.0059789419899816095\n",
      "\t 47000 edges processed. Average runtime per edge: 0.005974615918829086\n",
      "\t 48000 edges processed. Average runtime per edge: 0.005964112331469854\n",
      "\t 49000 edges processed. Average runtime per edge: 0.005955843867087851\n",
      "\t 50000 edges processed. Average runtime per edge: 0.005940059552192688\n",
      "\t 51000 edges processed. Average runtime per edge: 0.005949339128008076\n",
      "\t 52000 edges processed. Average runtime per edge: 0.005950229823589325\n",
      "\t 53000 edges processed. Average runtime per edge: 0.005946126703946095\n",
      "\t 54000 edges processed. Average runtime per edge: 0.005938362355585452\n",
      "\t 55000 edges processed. Average runtime per edge: 0.005941301259127531\n",
      "\t 56000 edges processed. Average runtime per edge: 0.005943986479725156\n",
      "\t 57000 edges processed. Average runtime per edge: 0.005943800190038848\n",
      "\t 58000 edges processed. Average runtime per edge: 0.005944570290631261\n",
      "\t 59000 edges processed. Average runtime per edge: 0.005960972208087727\n",
      "\t 60000 edges processed. Average runtime per edge: 0.005989807291825612\n",
      "\t 61000 edges processed. Average runtime per edge: 0.005995064696327585\n",
      "\t 62000 edges processed. Average runtime per edge: 0.0059938682971462124\n",
      "\t 63000 edges processed. Average runtime per edge: 0.005996312750710381\n",
      "\t 64000 edges processed. Average runtime per edge: 0.005965258952230215\n",
      "\t 65000 edges processed. Average runtime per edge: 0.00596591451718257\n",
      "\t 66000 edges processed. Average runtime per edge: 0.00596674028671149\n",
      "\t 67000 edges processed. Average runtime per edge: 0.005965936539778069\n",
      "\t 68000 edges processed. Average runtime per edge: 0.005961049977470847\n",
      "\t 69000 edges processed. Average runtime per edge: 0.005949178419251373\n",
      "\t 70000 edges processed. Average runtime per edge: 0.005947054219245911\n",
      "\t 71000 edges processed. Average runtime per edge: 0.0059480943579069325\n",
      "\t 72000 edges processed. Average runtime per edge: 0.005948060846991009\n",
      "\t 73000 edges processed. Average runtime per edge: 0.005959583974864385\n",
      "\t 74000 edges processed. Average runtime per edge: 0.00596241726424243\n",
      "\t 75000 edges processed. Average runtime per edge: 0.0059582810497283934\n",
      "\t 76000 edges processed. Average runtime per edge: 0.005963136155354349\n",
      "\t 77000 edges processed. Average runtime per edge: 0.0059670094205187514\n",
      "\t 78000 edges processed. Average runtime per edge: 0.005965880974745139\n",
      "\t 79000 edges processed. Average runtime per edge: 0.005968493241298048\n",
      "\t 80000 edges processed. Average runtime per edge: 0.005968207368254662\n",
      "\t 81000 edges processed. Average runtime per edge: 0.005971028395640997\n",
      "\t 82000 edges processed. Average runtime per edge: 0.0059703351782589426\n",
      "\t 83000 edges processed. Average runtime per edge: 0.005976910436009787\n",
      "\t 84000 edges processed. Average runtime per edge: 0.0059789135200636724\n",
      "\t 85000 edges processed. Average runtime per edge: 0.005986062509873334\n",
      "\t 86000 edges processed. Average runtime per edge: 0.005986818693404974\n",
      "\t 87000 edges processed. Average runtime per edge: 0.005984953603525272\n",
      "\t 88000 edges processed. Average runtime per edge: 0.005994099931283431\n",
      "\t 89000 edges processed. Average runtime per edge: 0.005994072233692984\n",
      "\t 90000 edges processed. Average runtime per edge: 0.005998740413453844\n",
      "\t 91000 edges processed. Average runtime per edge: 0.005994665046314617\n",
      "\t 92000 edges processed. Average runtime per edge: 0.0059982890408972036\n",
      "\t 93000 edges processed. Average runtime per edge: 0.005996997651233468\n",
      "\t 94000 edges processed. Average runtime per edge: 0.005992902740519098\n",
      "\t 95000 edges processed. Average runtime per edge: 0.005994485523826198\n",
      "\t 96000 edges processed. Average runtime per edge: 0.005996531968315442\n",
      "\t 97000 edges processed. Average runtime per edge: 0.005998294464091665\n",
      "\t 98000 edges processed. Average runtime per edge: 0.005983687325399749\n",
      "\t 99000 edges processed. Average runtime per edge: 0.0059829161480219675\n",
      "\t 100000 edges processed. Average runtime per edge: 0.005982387125492096\n",
      "\t 101000 edges processed. Average runtime per edge: 0.005984251893392884\n",
      "\t 102000 edges processed. Average runtime per edge: 0.0059835770387275545\n",
      "\t 103000 edges processed. Average runtime per edge: 0.005981350350148469\n",
      "\t 104000 edges processed. Average runtime per edge: 0.005982301008242827\n",
      "\t 105000 edges processed. Average runtime per edge: 0.005978582198279244\n",
      "\t 106000 edges processed. Average runtime per edge: 0.005974240842855202\n",
      "\t 107000 edges processed. Average runtime per edge: 0.0059682192156248004\n",
      "\t 108000 edges processed. Average runtime per edge: 0.005963765705073321\n",
      "\t 109000 edges processed. Average runtime per edge: 0.005961640530769978\n",
      "\t 110000 edges processed. Average runtime per edge: 0.005961574359373613\n",
      "\t 111000 edges processed. Average runtime per edge: 0.005959763683714308\n",
      "\t 112000 edges processed. Average runtime per edge: 0.005957515180110931\n",
      "\t 113000 edges processed. Average runtime per edge: 0.005957786638124854\n"
     ]
    },
    {
     "name": "stderr",
     "output_type": "stream",
     "text": [
      "\t 114000 edges processed. Average runtime per edge: 0.005962078659158004\n",
      "\t 115000 edges processed. Average runtime per edge: 0.005963955443838368\n",
      "\t 116000 edges processed. Average runtime per edge: 0.00596476044325993\n",
      "\t 117000 edges processed. Average runtime per edge: 0.0059656462180308805\n",
      "\t 118000 edges processed. Average runtime per edge: 0.00596054274550939\n",
      "\t 119000 edges processed. Average runtime per edge: 0.005961597955527426\n",
      "\t 120000 edges processed. Average runtime per edge: 0.0059635545233885446\n",
      "\t 121000 edges processed. Average runtime per edge: 0.005964706074107777\n",
      "\t 122000 edges processed. Average runtime per edge: 0.005961483994468314\n",
      "\t 123000 edges processed. Average runtime per edge: 0.00596172230030463\n",
      "\t 124000 edges processed. Average runtime per edge: 0.0059668892756585155\n",
      "\t 125000 edges processed. Average runtime per edge: 0.005965861814498902\n",
      "\t 126000 edges processed. Average runtime per edge: 0.00596887373167371\n",
      "\t 127000 edges processed. Average runtime per edge: 0.005963831182539932\n",
      "\t 128000 edges processed. Average runtime per edge: 0.005963786026462912\n",
      "\t 129000 edges processed. Average runtime per edge: 0.005960464932197748\n",
      "\t 130000 edges processed. Average runtime per edge: 0.005962054624924293\n",
      "\t 131000 edges processed. Average runtime per edge: 0.005957008747654107\n",
      "\t 132000 edges processed. Average runtime per edge: 0.005958814498149987\n",
      "\t 133000 edges processed. Average runtime per edge: 0.005959908259542365\n",
      "\t 134000 edges processed. Average runtime per edge: 0.005958361931701205\n",
      "\t 135000 edges processed. Average runtime per edge: 0.005956934699305781\n",
      "\t 136000 edges processed. Average runtime per edge: 0.005958886141286176\n",
      "\t 137000 edges processed. Average runtime per edge: 0.005955800865688463\n",
      "\t 138000 edges processed. Average runtime per edge: 0.00595426050649173\n",
      "\t 139000 edges processed. Average runtime per edge: 0.005952717630125635\n",
      "\t 140000 edges processed. Average runtime per edge: 0.005954363088948386\n",
      "\t 141000 edges processed. Average runtime per edge: 0.00595189424947644\n",
      "\t 142000 edges processed. Average runtime per edge: 0.005947732658453391\n",
      "\t 143000 edges processed. Average runtime per edge: 0.005948946292583759\n",
      "\t 144000 edges processed. Average runtime per edge: 0.00594667496614986\n",
      "\t 145000 edges processed. Average runtime per edge: 0.005951392573323743\n",
      "\t 146000 edges processed. Average runtime per edge: 0.005951442111028384\n",
      "\t 147000 edges processed. Average runtime per edge: 0.005953888685524869\n",
      "\t 148000 edges processed. Average runtime per edge: 0.005951201744981714\n",
      "\t 149000 edges processed. Average runtime per edge: 0.00595289078014809\n",
      "\t 150000 edges processed. Average runtime per edge: 0.005951985540390015\n",
      "\t 151000 edges processed. Average runtime per edge: 0.0059507489472825\n",
      "\t 152000 edges processed. Average runtime per edge: 0.0059489325190845285\n",
      "\t 153000 edges processed. Average runtime per edge: 0.005949917031269448\n",
      "\t 154000 edges processed. Average runtime per edge: 0.005949323276420692\n",
      "\t 155000 edges processed. Average runtime per edge: 0.005948316878657187\n",
      "\t 156000 edges processed. Average runtime per edge: 0.005949416457078396\n",
      "\t 157000 edges processed. Average runtime per edge: 0.005945813141051371\n",
      "\t 158000 edges processed. Average runtime per edge: 0.005943235244932054\n",
      "\t 159000 edges processed. Average runtime per edge: 0.00594233234723409\n",
      "\t 160000 edges processed. Average runtime per edge: 0.0059388542875647545\n",
      "\t 161000 edges processed. Average runtime per edge: 0.005940805765412609\n",
      "\t 162000 edges processed. Average runtime per edge: 0.005943061053017039\n",
      "\t 163000 edges processed. Average runtime per edge: 0.005941385146299023\n",
      "\t 164000 edges processed. Average runtime per edge: 0.0059394125618585725\n",
      "\t 165000 edges processed. Average runtime per edge: 0.005937795035044352\n",
      "\t 166000 edges processed. Average runtime per edge: 0.005936125462313733\n",
      "\t 167000 edges processed. Average runtime per edge: 0.005934262427027354\n",
      "\t 168000 edges processed. Average runtime per edge: 0.005933025069179989\n",
      "\t 169000 edges processed. Average runtime per edge: 0.00593181371970995\n",
      "\t 170000 edges processed. Average runtime per edge: 0.005930977501588709\n",
      "\t 171000 edges processed. Average runtime per edge: 0.005925580760888886\n",
      "\t 172000 edges processed. Average runtime per edge: 0.0059233423610066255\n",
      "\t 173000 edges processed. Average runtime per edge: 0.005924707339678197\n",
      "\t 174000 edges processed. Average runtime per edge: 0.005927268402329807\n",
      "\t 175000 edges processed. Average runtime per edge: 0.005928688110624041\n",
      "\t 176000 edges processed. Average runtime per edge: 0.00592881884358146\n",
      "\t 177000 edges processed. Average runtime per edge: 0.005927692635584686\n",
      "\t 178000 edges processed. Average runtime per edge: 0.005926975483304999\n",
      "\t 179000 edges processed. Average runtime per edge: 0.005925760355741618\n",
      "assign_patients2edges()\truntime, s: 1065.5758 for subnetwork of 11959 nodes 179514 edges and  patients.\n"
     ]
    },
    {
     "name": "stdout",
     "output_type": "stream",
     "text": [
      "Edges without patients: 85035\n"
     ]
    }
   ],
   "source": [
    "network = expression_profiles2nodes(network, exprs, direction)\n",
    "network = assign_patients2edges(network, method= method,\n",
    "                                                    fixed_step=fixed_step,significance_thr=significance_thr,\n",
    "                                                    rrho_thrs = rrho_thresholds)\n",
    "print(\"Edges without patients:\",count_emtpy_edges(network, thr = 0))"
   ]
  },
  {
   "cell_type": "code",
   "execution_count": 11,
   "metadata": {},
   "outputs": [
    {
     "data": {
      "text/plain": [
       "'/home/olya/SFU/Breast_cancer/example_run/TCGA-micro.RRHO_UP.network.txt'"
      ]
     },
     "execution_count": 11,
     "metadata": {},
     "output_type": "execute_result"
    }
   ],
   "source": [
    "# save subnetworks with assigned patients if necessary \n",
    "outfile_name =  out_dir + basename +\".network.txt\"\n",
    "outfile_name"
   ]
  },
  {
   "cell_type": "code",
   "execution_count": 12,
   "metadata": {},
   "outputs": [
    {
     "name": "stdout",
     "output_type": "stream",
     "text": [
      "edges masked: 0\n"
     ]
    },
    {
     "name": "stderr",
     "output_type": "stream",
     "text": [
      "save_subnetworks() runtime 23.38 s\n"
     ]
    }
   ],
   "source": [
    "print(\"edges masked:\",count_masked_edges(network))\n",
    "save_subnetworks([network], outfile_name)\n",
    "#resulted_subnets = load_subnetworks(outfile_name)"
   ]
  },
  {
   "cell_type": "code",
   "execution_count": 13,
   "metadata": {},
   "outputs": [
    {
     "name": "stdout",
     "output_type": "stream",
     "text": [
      "edges 179514 edges masked: 94232\n"
     ]
    },
    {
     "data": {
      "image/png": "[encoded data removed]",
      "text/plain": [
       "<Figure size 432x288 with 1 Axes>"
      ]
     },
     "metadata": {},
     "output_type": "display_data"
    }
   ],
   "source": [
    "plot_patient_ditsribution_and_mask_edges(network,min_n_patients=min_n_patients,title=\"Distribution of patients associated with edges.\")\n",
    "print(\"edges\",len(network.edges()),\"edges masked:\",count_masked_edges(network))"
   ]
  },
  {
   "cell_type": "markdown",
   "metadata": {},
   "source": [
    "### 2. Sample module memberships"
   ]
  },
  {
   "cell_type": "code",
   "execution_count": 24,
   "metadata": {},
   "outputs": [],
   "source": [
    "from method import  set_initial_distribution,sampling, get_consensus_module_membrship\n",
    "from method import check_convergence_condition, restore_modules, get_genes, get_opt_pat_set\n",
    "from post_processing import plot_bic_stats, write_modules, merge_modules"
   ]
  },
  {
   "cell_type": "code",
   "execution_count": 15,
   "metadata": {},
   "outputs": [
    {
     "name": "stderr",
     "output_type": "stream",
     "text": [
      "0.21 s runtime\n"
     ]
    },
    {
     "name": "stdout",
     "output_type": "stream",
     "text": [
      "0 edges processed\n",
      "10000 edges processed\n",
      "20000 edges processed\n",
      "30000 edges processed\n",
      "40000 edges processed\n",
      "50000 edges processed\n",
      "60000 edges processed\n",
      "70000 edges processed\n",
      "80000 edges processed\n"
     ]
    },
    {
     "name": "stderr",
     "output_type": "stream",
     "text": [
      "created TCGA-micro.RRHO_UP.edgeNeighorhood.npy file in 3402.59 s\n",
      "0.0 s runtime\n"
     ]
    },
    {
     "name": "stdout",
     "output_type": "stream",
     "text": [
      "(85282, 529) (85282, 529)\n"
     ]
    },
    {
     "name": "stderr",
     "output_type": "stream",
     "text": [
      "7.97 s runtime\n"
     ]
    }
   ],
   "source": [
    "# initial distribution\n",
    "edges, edgeNeighorhood, edge2module, moduleSizes,  edge2patients, nOnesPerPatientInModules = set_initial_distribution(network, exprs, basename, out_dir)"
   ]
  },
  {
   "cell_type": "code",
   "execution_count": 16,
   "metadata": {
    "scrolled": true
   },
   "outputs": [
    {
     "name": "stdout",
     "output_type": "stream",
     "text": [
      "step 1 n_changes 70454\n"
     ]
    },
    {
     "name": "stderr",
     "output_type": "stream",
     "text": [
      "453.7824 s runtime\n"
     ]
    },
    {
     "name": "stdout",
     "output_type": "stream",
     "text": [
      "step 2 n_changes 19039\n"
     ]
    },
    {
     "name": "stderr",
     "output_type": "stream",
     "text": [
      "9472.836 s runtime\n"
     ]
    },
    {
     "name": "stdout",
     "output_type": "stream",
     "text": [
      "step 3 n_changes 3449\n"
     ]
    },
    {
     "name": "stderr",
     "output_type": "stream",
     "text": [
      "246.9779 s runtime\n"
     ]
    },
    {
     "name": "stdout",
     "output_type": "stream",
     "text": [
      "step 4 n_changes 1096\n"
     ]
    },
    {
     "name": "stderr",
     "output_type": "stream",
     "text": [
      "241.9884 s runtime\n"
     ]
    },
    {
     "name": "stdout",
     "output_type": "stream",
     "text": [
      "step 5 n_changes 525\n"
     ]
    },
    {
     "name": "stderr",
     "output_type": "stream",
     "text": [
      "246.7314 s runtime\n"
     ]
    },
    {
     "name": "stdout",
     "output_type": "stream",
     "text": [
      "step 6 n_changes 330\n"
     ]
    },
    {
     "name": "stderr",
     "output_type": "stream",
     "text": [
      "235.4227 s runtime\n"
     ]
    },
    {
     "name": "stdout",
     "output_type": "stream",
     "text": [
      "step 7 n_changes 272\n"
     ]
    },
    {
     "name": "stderr",
     "output_type": "stream",
     "text": [
      "228.3514 s runtime\n"
     ]
    },
    {
     "name": "stdout",
     "output_type": "stream",
     "text": [
      "step 8 n_changes 213\n"
     ]
    },
    {
     "name": "stderr",
     "output_type": "stream",
     "text": [
      "233.9797 s runtime\n"
     ]
    },
    {
     "name": "stdout",
     "output_type": "stream",
     "text": [
      "step 9 n_changes 142\n"
     ]
    },
    {
     "name": "stderr",
     "output_type": "stream",
     "text": [
      "227.4384 s runtime\n"
     ]
    },
    {
     "name": "stdout",
     "output_type": "stream",
     "text": [
      "step 10 n_changes 127\n"
     ]
    },
    {
     "name": "stderr",
     "output_type": "stream",
     "text": [
      "209.1266 s runtime\n"
     ]
    },
    {
     "name": "stdout",
     "output_type": "stream",
     "text": [
      "step 11 n_changes 104\n"
     ]
    },
    {
     "name": "stderr",
     "output_type": "stream",
     "text": [
      "215.3563 s runtime\n"
     ]
    },
    {
     "name": "stdout",
     "output_type": "stream",
     "text": [
      "step 12 n_changes 97\n"
     ]
    },
    {
     "name": "stderr",
     "output_type": "stream",
     "text": [
      "224.5427 s runtime\n"
     ]
    },
    {
     "name": "stdout",
     "output_type": "stream",
     "text": [
      "step 13 n_changes 111\n"
     ]
    },
    {
     "name": "stderr",
     "output_type": "stream",
     "text": [
      "223.1693 s runtime\n"
     ]
    },
    {
     "name": "stdout",
     "output_type": "stream",
     "text": [
      "step 14 n_changes 92\n"
     ]
    },
    {
     "name": "stderr",
     "output_type": "stream",
     "text": [
      "226.7986 s runtime\n"
     ]
    },
    {
     "name": "stdout",
     "output_type": "stream",
     "text": [
      "step 15 n_changes 80\n"
     ]
    },
    {
     "name": "stderr",
     "output_type": "stream",
     "text": [
      "215.2937 s runtime\n"
     ]
    },
    {
     "name": "stdout",
     "output_type": "stream",
     "text": [
      "step 16 n_changes 70\n"
     ]
    },
    {
     "name": "stderr",
     "output_type": "stream",
     "text": [
      "217.7167 s runtime\n"
     ]
    },
    {
     "name": "stdout",
     "output_type": "stream",
     "text": [
      "step 17 n_changes 95\n"
     ]
    },
    {
     "name": "stderr",
     "output_type": "stream",
     "text": [
      "225.5108 s runtime\n"
     ]
    },
    {
     "name": "stdout",
     "output_type": "stream",
     "text": [
      "step 18 n_changes 99\n"
     ]
    },
    {
     "name": "stderr",
     "output_type": "stream",
     "text": [
      "213.2227 s runtime\n"
     ]
    },
    {
     "name": "stdout",
     "output_type": "stream",
     "text": [
      "step 19 n_changes 89\n"
     ]
    },
    {
     "name": "stderr",
     "output_type": "stream",
     "text": [
      "220.1708 s runtime\n"
     ]
    },
    {
     "name": "stdout",
     "output_type": "stream",
     "text": [
      "step 20 n_changes 95\n"
     ]
    },
    {
     "name": "stderr",
     "output_type": "stream",
     "text": [
      "216.2692 s runtime\n"
     ]
    },
    {
     "name": "stdout",
     "output_type": "stream",
     "text": [
      "step 21 n_changes 88\n"
     ]
    },
    {
     "name": "stderr",
     "output_type": "stream",
     "text": [
      "208.0355 s runtime\n"
     ]
    },
    {
     "name": "stdout",
     "output_type": "stream",
     "text": [
      "step 22 n_changes 85\n"
     ]
    },
    {
     "name": "stderr",
     "output_type": "stream",
     "text": [
      "211.3108 s runtime\n"
     ]
    },
    {
     "name": "stdout",
     "output_type": "stream",
     "text": [
      "step 23 n_changes 86\n"
     ]
    },
    {
     "name": "stderr",
     "output_type": "stream",
     "text": [
      "213.3185 s runtime\n"
     ]
    },
    {
     "name": "stdout",
     "output_type": "stream",
     "text": [
      "step 24 n_changes 72\n"
     ]
    },
    {
     "name": "stderr",
     "output_type": "stream",
     "text": [
      "209.4029 s runtime\n"
     ]
    },
    {
     "name": "stdout",
     "output_type": "stream",
     "text": [
      "step 25 n_changes 91\n"
     ]
    },
    {
     "name": "stderr",
     "output_type": "stream",
     "text": [
      "213.7916 s runtime\n"
     ]
    },
    {
     "name": "stdout",
     "output_type": "stream",
     "text": [
      "step 26 n_changes 86\n"
     ]
    },
    {
     "name": "stderr",
     "output_type": "stream",
     "text": [
      "210.9216 s runtime\n"
     ]
    },
    {
     "name": "stdout",
     "output_type": "stream",
     "text": [
      "step 27 n_changes 81\n"
     ]
    },
    {
     "name": "stderr",
     "output_type": "stream",
     "text": [
      "221.568 s runtime\n"
     ]
    },
    {
     "name": "stdout",
     "output_type": "stream",
     "text": [
      "step 28 n_changes 70\n"
     ]
    },
    {
     "name": "stderr",
     "output_type": "stream",
     "text": [
      "215.8177 s runtime\n"
     ]
    },
    {
     "name": "stdout",
     "output_type": "stream",
     "text": [
      "step 29 n_changes 82\n"
     ]
    },
    {
     "name": "stderr",
     "output_type": "stream",
     "text": [
      "213.3086 s runtime\n"
     ]
    },
    {
     "name": "stdout",
     "output_type": "stream",
     "text": [
      "step 30 n_changes 68\n"
     ]
    },
    {
     "name": "stderr",
     "output_type": "stream",
     "text": [
      "212.189 s runtime\n"
     ]
    },
    {
     "name": "stdout",
     "output_type": "stream",
     "text": [
      "step 31 n_changes 80\n"
     ]
    },
    {
     "name": "stderr",
     "output_type": "stream",
     "text": [
      "211.6656 s runtime\n"
     ]
    },
    {
     "name": "stdout",
     "output_type": "stream",
     "text": [
      "step 32 n_changes 78\n"
     ]
    },
    {
     "name": "stderr",
     "output_type": "stream",
     "text": [
      "221.7636 s runtime\n"
     ]
    },
    {
     "name": "stdout",
     "output_type": "stream",
     "text": [
      "step 33 n_changes 70\n"
     ]
    },
    {
     "name": "stderr",
     "output_type": "stream",
     "text": [
      "213.8128 s runtime\n"
     ]
    },
    {
     "name": "stdout",
     "output_type": "stream",
     "text": [
      "step 34 n_changes 55\n"
     ]
    },
    {
     "name": "stderr",
     "output_type": "stream",
     "text": [
      "213.4448 s runtime\n"
     ]
    },
    {
     "name": "stdout",
     "output_type": "stream",
     "text": [
      "step 35 n_changes 66\n"
     ]
    },
    {
     "name": "stderr",
     "output_type": "stream",
     "text": [
      "214.6743 s runtime\n"
     ]
    },
    {
     "name": "stdout",
     "output_type": "stream",
     "text": [
      "step 36 n_changes 68\n"
     ]
    },
    {
     "name": "stderr",
     "output_type": "stream",
     "text": [
      "226.8468 s runtime\n"
     ]
    },
    {
     "name": "stdout",
     "output_type": "stream",
     "text": [
      "step 37 n_changes 53\n"
     ]
    },
    {
     "name": "stderr",
     "output_type": "stream",
     "text": [
      "213.0194 s runtime\n",
      "The model converged after 37 steps.\n"
     ]
    }
   ],
   "source": [
    "# sampling \n",
    "edge2module_history, edges_skip_history, edge2module_history_slice =  sampling(edges,  edgeNeighorhood, edge2module, edge2patients,  moduleSizes,nOnesPerPatientInModules, \n",
    "                                                                               max_n_steps=max_n_steps,alpha = alpha, beta_K = beta_K,min_pletau_steps = min_pletau_steps)\n",
    "\n",
    "# save intermidiate results \n",
    "np.save(out_dir+basename+\".edge2module_history.a=\"+str(alpha)+\".b=\"+str(beta_K), edge2module_history)\n",
    "np.save(out_dir+basename+\".edges_skip_history.a=\"+str(alpha)+\".b=\"+str(beta_K), edges_skip_history)\n",
    "np.save(out_dir+basename+\".edges.a=\"+str(alpha)+\".b=\"+str(beta_K), edges)"
   ]
  },
  {
   "cell_type": "code",
   "execution_count": 30,
   "metadata": {},
   "outputs": [],
   "source": [
    "#edge2module_history = np.load(out_dir+basename+\".edge2module_history.a=\"+str(alpha)+\".b=\"+str(beta_K)+\".npy\")\n",
    "#edges_skip_history = np.load(out_dir+basename+\".edges_skip_history.a=\"+str(alpha)+\".b=\"+str(beta_K)+\".npy\")\n",
    "#edges = np.load(out_dir+basename+\".edges.a=\"+str(alpha)+\".b=\"+str(beta_K)+\".npy\")\n",
    "#edge2module_history_slice = edge2module_history[-min_pletau_steps:]"
   ]
  },
  {
   "cell_type": "code",
   "execution_count": 18,
   "metadata": {
    "scrolled": true
   },
   "outputs": [
    {
     "name": "stderr",
     "output_type": "stream",
     "text": [
      "Warning: less than 50% of time in the most frequent module\n",
      "\tedge: 39418 counts: [10 12  8] \n",
      "\tlabels: 48487,63767,37273,37273,37273,37273,48487,48487,37273,48487,63767,48487,63767,48487,48487,37273,37273,63767,48487,63767,48487,63767,63767,63767,37273,37273,48487,48487,37273,48487\n"
     ]
    }
   ],
   "source": [
    "# consensus edge-to-module membership\n",
    "consensus_edge2module = get_consensus_module_membrship(edge2module_history_slice, edges)"
   ]
  },
  {
   "cell_type": "code",
   "execution_count": 19,
   "metadata": {},
   "outputs": [
    {
     "name": "stderr",
     "output_type": "stream",
     "text": [
      "5.08 s runtime\n"
     ]
    },
    {
     "name": "stdout",
     "output_type": "stream",
     "text": [
      "empty modules: 74110 non-empty modules: 11172\n"
     ]
    },
    {
     "data": {
      "image/png": "[encoded data removed]",
      "text/plain": [
       "<Figure size 432x288 with 1 Axes>"
      ]
     },
     "metadata": {},
     "output_type": "display_data"
    }
   ],
   "source": [
    "# make moduleSizes, nOnesPerPatientInModules corresponding to consensus module mebership \n",
    "moduleSizes, nOnesPerPatientInModules = restore_modules(consensus_edge2module,edges,network,exprs)\n",
    "\n",
    "print(\"empty modules:\", len([x for x in moduleSizes if x == 0]),\n",
    "      \"non-empty modules:\",len([x for x in moduleSizes if x != 0]))\n",
    "tmp = plt.hist(moduleSizes, bins=50, range=(1,max(moduleSizes)))"
   ]
  },
  {
   "cell_type": "code",
   "execution_count": 20,
   "metadata": {
    "scrolled": true
   },
   "outputs": [
    {
     "name": "stdout",
     "output_type": "stream",
     "text": [
      "6862\n"
     ]
    },
    {
     "data": {
      "image/png": "[encoded data removed]",
      "text/plain": [
       "<Figure size 1440x360 with 3 Axes>"
      ]
     },
     "metadata": {},
     "output_type": "display_data"
    }
   ],
   "source": [
    "bics = []\n",
    "for mid in range(0,len(moduleSizes)):\n",
    "    if moduleSizes[mid]>1:\n",
    "        genes = get_genes(mid,edge2module=consensus_edge2module,edges=edges)\n",
    "        pats, thr, avgSNR = get_opt_pat_set(nOnesPerPatientInModules[mid,], moduleSizes[mid,],\n",
    "                                            exprs, genes, min_n_patients=min_n_patients)\n",
    "        bics.append({\"genes\":set(genes), \"patients\":set(pats), \"avgSNR\":avgSNR,\"id\":mid})\n",
    "\n",
    "\n",
    "plot_bic_stats(bics)\n",
    "print(len(bics))"
   ]
  },
  {
   "cell_type": "markdown",
   "metadata": {},
   "source": [
    "### 3. Post-processing: Filter the resulting modules and do post-processing:\n",
    " * exclude all the modules with low SNR < 0.5\n",
    " * repeat until the list of modules is non-empty \n",
    "    * select module with maximal SNR\n",
    "    * find all the candidates with at least 75% of mutual patinet ovelap and at least 1 gene shared\n",
    "    * try merging with every candidate and calcuate new threshold with max. abs. SNR\n",
    "    * select one with max SNR but with loss no more than 10 %\n",
    "    * if any suitable candidates found - merge \n",
    "    * else save module and remove it from the list"
   ]
  },
  {
   "cell_type": "code",
   "execution_count": 21,
   "metadata": {},
   "outputs": [],
   "source": [
    "#min_SNR = 0.5\n",
    "#min_patient_overlap = 0.75 # at least 75 % of candidates \n",
    "#allowed_SNR_decrease  = 0.1 # maximum allowed % of SNR decrease when merge two modules \n",
    "# -i.e. new module loses after merge no more than 10% of SNR "
   ]
  },
  {
   "cell_type": "code",
   "execution_count": 22,
   "metadata": {},
   "outputs": [
    {
     "name": "stdout",
     "output_type": "stream",
     "text": [
      "2008\n"
     ]
    },
    {
     "data": {
      "image/png": "[encoded data removed]",
      "text/plain": [
       "<Figure size 1440x360 with 3 Axes>"
      ]
     },
     "metadata": {},
     "output_type": "display_data"
    }
   ],
   "source": [
    "filtered_bics = []\n",
    "for bic in bics:\n",
    "    if bic[\"avgSNR\"] > min_SNR:\n",
    "        filtered_bics.append(copy.copy(bic))\n",
    "plot_bic_stats(filtered_bics)\n",
    "print(len(filtered_bics))"
   ]
  },
  {
   "cell_type": "code",
   "execution_count": 27,
   "metadata": {},
   "outputs": [
    {
     "name": "stderr",
     "output_type": "stream",
     "text": [
      "42.18 s runtime\n"
     ]
    }
   ],
   "source": [
    "resulting_modules = merge_modules(filtered_bics, copy.copy(nOnesPerPatientInModules),copy.copy(moduleSizes),exprs,SNRs = [],\n",
    "                              min_patient_overlap = min_patient_overlap,\n",
    "                              min_acceptable_SNR_percent=1-allowed_SNR_decrease, verbose= False)"
   ]
  },
  {
   "cell_type": "code",
   "execution_count": 28,
   "metadata": {},
   "outputs": [
    {
     "name": "stdout",
     "output_type": "stream",
     "text": [
      "0 module: 43260 SNR 1.089 pats 64 genes 49\n",
      "1 module: 30997 SNR 1.076 pats 170 genes 7\n",
      "2 module: 74677 SNR 1.059 pats 189 genes 3\n",
      "3 module: 44997 SNR 1.025 pats 234 genes 3\n",
      "4 module: 52472 SNR 1.02 pats 197 genes 3\n",
      "5 module: 52764 SNR 1.01 pats 227 genes 3\n",
      "6 module: 69856 SNR 1.005 pats 61 genes 8\n",
      "7 module: 84081 SNR 1.001 pats 231 genes 4\n",
      "15 module: 50466 SNR 1.006 pats 78 genes 15\n",
      "1936\n"
     ]
    },
    {
     "data": {
      "image/png": "[encoded data removed]",
      "text/plain": [
       "<Figure size 1440x360 with 3 Axes>"
      ]
     },
     "metadata": {},
     "output_type": "display_data"
    }
   ],
   "source": [
    "i=0\n",
    "for bic in resulting_modules:\n",
    "    if bic[\"avgSNR\"]> 1.0:\n",
    "        print(i,\"module:\",bic[\"id\"],\"SNR\",bic[\"avgSNR\"], \"pats\",len(bic[\"patients\"]), \"genes\", len(bic[\"genes\"]))\n",
    "    i+=1\n",
    "print(len(resulting_modules))\n",
    "plot_bic_stats(resulting_modules)"
   ]
  },
  {
   "cell_type": "code",
   "execution_count": 29,
   "metadata": {},
   "outputs": [
    {
     "name": "stderr",
     "output_type": "stream",
     "text": [
      "1936 modules written to /home/olya/SFU/Breast_cancer/example_run/TCGA-micro.RRHO_UP.minSNR_0.5.modules.txt\n"
     ]
    }
   ],
   "source": [
    "def write_modules(bics,file_name):\n",
    "    fopen = open(file_name,\"w\")\n",
    "    for bic in bics:\n",
    "        print(\"id:\\t\"+str(bic[\"id\"]), file=fopen)\n",
    "        print(\"average SNR:\\t\"+str(bic[\"avgSNR\"]),file=fopen)\n",
    "        print(\"genes:\\t\"+\" \".join(bic[\"genes\"]),file=fopen)\n",
    "        print(\"patients:\\t\"+\" \".join(bic[\"patients\"]),file=fopen)\n",
    "    fopen.close()\n",
    "    print(str(len(bics)),\"modules written to\",file_name,file = sys.stderr)\n",
    "    \n",
    "file_name = out_dir+basename+\".minSNR_\"+str(min_SNR)+\".modules.txt\"\n",
    "write_modules(resulting_modules,file_name)"
   ]
  },
  {
   "cell_type": "code",
   "execution_count": null,
   "metadata": {},
   "outputs": [],
   "source": []
  }
 ],
 "metadata": {
  "anaconda-cloud": {},
  "kernelspec": {
   "display_name": "Python [conda env:anaconda3]",
   "language": "python",
   "name": "conda-env-anaconda3-py"
  },
  "language_info": {
   "codemirror_mode": {
    "name": "ipython",
    "version": 2
   },
   "file_extension": ".py",
   "mimetype": "text/x-python",
   "name": "python",
   "nbconvert_exporter": "python",
   "pygments_lexer": "ipython2",
   "version": "2.7.15"
  }
 },
 "nbformat": 4,
 "nbformat_minor": 1
}
